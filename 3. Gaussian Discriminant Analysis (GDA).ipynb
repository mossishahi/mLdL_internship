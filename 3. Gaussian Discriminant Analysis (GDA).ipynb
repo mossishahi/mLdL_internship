{
 "cells": [
  {
   "cell_type": "markdown",
   "metadata": {},
   "source": [
    "## Guassian Discriminant Analysis"
   ]
  },
  {
   "cell_type": "markdown",
   "metadata": {},
   "source": [
    "### Naive Bayes"
   ]
  },
  {
   "cell_type": "code",
   "execution_count": 1,
   "metadata": {},
   "outputs": [],
   "source": [
    "import numpy as np\n",
    "from sklearn import datasets\n",
    "import pandas as pd\n",
    "import scipy.stats\n",
    "from sklearn.model_selection import train_test_split "
   ]
  },
  {
   "cell_type": "code",
   "execution_count": 63,
   "metadata": {},
   "outputs": [],
   "source": [
    "import numpy as np\n",
    "\n",
    "class Gaussian_NB():\n",
    "    def __init__(self):\n",
    "        pass\n",
    "    \n",
    "    def train(self, data):\n",
    "        self.n_samples, self.n_features = data.shape[0], data.shape[1]-1\n",
    "        self.classes = np.unique(data[:, -1])\n",
    "        self.n_classes = len(self.classes)\n",
    "        self._means = np.zeros((self.n_classes, self.n_features), dtype = np.float32)\n",
    "        self._stds = np.zeros((self.n_classes, self.n_features), dtype = np.float32)\n",
    "        data_c = np.zeros((self.n_samples, self.n_features-1), dtype = np.float32)\n",
    "        \n",
    "        for i, c in enumerate(self.classes):\n",
    "            data_c = data[data[:,-1]==c]\n",
    "            data_c = data_c[:, :-1]\n",
    "            self._means[i, :] = data_c.mean(axis = 0)\n",
    "            self._stds[i, :] = data_c.std(axis = 0)\n",
    "        _, self.class_priors = np.unique(data[:, -1], return_counts = True)\n",
    "        \n",
    "    def predict(self, input_value):\n",
    "        predictions = []\n",
    "        for item in input_value:\n",
    "            posteriors = np.zeros((self.n_classes, self.n_features))\n",
    "            class_conditions = []\n",
    "            for i in range(self.n_classes):\n",
    "                for j in range(self.n_features):\n",
    "                    posteriors[i][j] = scipy.stats.norm(loc = self._means[i][j], scale = self._stds[i][j]).pdf(item[j])\n",
    "                class_conditions.append(np.log(posteriors[i, :]).sum() + np.log(self.class_priors[i]))\n",
    "            predictions.append(np.argmax(class_conditions))\n",
    "        return predictions"
   ]
  },
  {
   "cell_type": "markdown",
   "metadata": {},
   "source": [
    "#### Load Iris Dataset"
   ]
  },
  {
   "cell_type": "code",
   "execution_count": 64,
   "metadata": {},
   "outputs": [
    {
     "data": {
      "text/html": [
       "<div>\n",
       "<style scoped>\n",
       "    .dataframe tbody tr th:only-of-type {\n",
       "        vertical-align: middle;\n",
       "    }\n",
       "\n",
       "    .dataframe tbody tr th {\n",
       "        vertical-align: top;\n",
       "    }\n",
       "\n",
       "    .dataframe thead th {\n",
       "        text-align: right;\n",
       "    }\n",
       "</style>\n",
       "<table border=\"1\" class=\"dataframe\">\n",
       "  <thead>\n",
       "    <tr style=\"text-align: right;\">\n",
       "      <th></th>\n",
       "      <th>sepal length (cm)</th>\n",
       "      <th>sepal width (cm)</th>\n",
       "      <th>petal length (cm)</th>\n",
       "      <th>petal width (cm)</th>\n",
       "      <th>class</th>\n",
       "    </tr>\n",
       "  </thead>\n",
       "  <tbody>\n",
       "    <tr>\n",
       "      <th>0</th>\n",
       "      <td>5.1</td>\n",
       "      <td>3.5</td>\n",
       "      <td>1.4</td>\n",
       "      <td>0.2</td>\n",
       "      <td>0</td>\n",
       "    </tr>\n",
       "    <tr>\n",
       "      <th>1</th>\n",
       "      <td>4.9</td>\n",
       "      <td>3.0</td>\n",
       "      <td>1.4</td>\n",
       "      <td>0.2</td>\n",
       "      <td>0</td>\n",
       "    </tr>\n",
       "    <tr>\n",
       "      <th>2</th>\n",
       "      <td>4.7</td>\n",
       "      <td>3.2</td>\n",
       "      <td>1.3</td>\n",
       "      <td>0.2</td>\n",
       "      <td>0</td>\n",
       "    </tr>\n",
       "    <tr>\n",
       "      <th>3</th>\n",
       "      <td>4.6</td>\n",
       "      <td>3.1</td>\n",
       "      <td>1.5</td>\n",
       "      <td>0.2</td>\n",
       "      <td>0</td>\n",
       "    </tr>\n",
       "    <tr>\n",
       "      <th>4</th>\n",
       "      <td>5.0</td>\n",
       "      <td>3.6</td>\n",
       "      <td>1.4</td>\n",
       "      <td>0.2</td>\n",
       "      <td>0</td>\n",
       "    </tr>\n",
       "  </tbody>\n",
       "</table>\n",
       "</div>"
      ],
      "text/plain": [
       "   sepal length (cm)  sepal width (cm)  petal length (cm)  petal width (cm)  \\\n",
       "0                5.1               3.5                1.4               0.2   \n",
       "1                4.9               3.0                1.4               0.2   \n",
       "2                4.7               3.2                1.3               0.2   \n",
       "3                4.6               3.1                1.5               0.2   \n",
       "4                5.0               3.6                1.4               0.2   \n",
       "\n",
       "   class  \n",
       "0      0  \n",
       "1      0  \n",
       "2      0  \n",
       "3      0  \n",
       "4      0  "
      ]
     },
     "execution_count": 64,
     "metadata": {},
     "output_type": "execute_result"
    }
   ],
   "source": [
    "iris = datasets.load_iris()\n",
    "iris_df = pd.DataFrame(iris.data, columns=iris.feature_names)\n",
    "iris_df['class'] = pd.Series(iris.target)\n",
    "\n",
    "iris_df.head()"
   ]
  },
  {
   "cell_type": "markdown",
   "metadata": {},
   "source": [
    "### Model, train and test"
   ]
  },
  {
   "cell_type": "code",
   "execution_count": 65,
   "metadata": {},
   "outputs": [
    {
     "name": "stdout",
     "output_type": "stream",
     "text": [
      "model Accuracy: 1.0\n"
     ]
    }
   ],
   "source": [
    "model = Gaussian_NB()\n",
    "\n",
    "train, test = train_test_split(np.array(np.append(iris.data, iris.target[:, None], axis  = 1)), test_size = 0.2)\n",
    "model.train(train)\n",
    "print(\"model Accuracy: {0}\".format(np.sum(model.predict(test[:, :-1]) == test[:, -1])/test.shape[0]))"
   ]
  },
  {
   "cell_type": "code",
   "execution_count": 222,
   "metadata": {},
   "outputs": [],
   "source": [
    "import itertools\n",
    "import numpy as np\n",
    "import matplotlib.pyplot as plt\n",
    "\n",
    "class Multivariate_Guassian():\n",
    "    \n",
    "    def __init__(self, X, y, method = 'LDA'):\n",
    "        self.X = X\n",
    "        self.n_samples, self.n_features = X.shape\n",
    "        self.classes = np.unique(y)\n",
    "        self.method = method\n",
    "        self.X_noramlized = []\n",
    "        \n",
    "        self.sigma = []\n",
    "        \n",
    "        #Overall mean\n",
    "        self.overall_mean = X.mean(axis = 0)\n",
    "        # COV matrix\n",
    "        self.sigma.append(np.cov(X.T))\n",
    "        self.priors = []\n",
    "        self.means = np.zeros((len(self.classes), self.n_features))\n",
    "        # mu matrix\n",
    "        for i, c in enumerate(self.classes):\n",
    "            X_c = X[y == c]\n",
    "            self.priors.append(X_c.shape[0] / X.shape[0])\n",
    "            self.means[i, :] = X_c.mean(axis = 0)\n",
    "            self.sigma.append(np.cov(X_c.T))\n",
    "            self.X_noramlized.append(X_c - self.means[i, :])    \n",
    "    def LDA_score(self, input_x):\n",
    "        probs = []\n",
    "        for i, c in enumerate(self.classes):\n",
    "            sigma_inv = np.linalg.inv(self.sigma[0])\n",
    "            conditional_prob = np.log(self.priors[i]) - 0.5 * (self.means[i, :]).T @sigma_inv@ (self.means[i, :])\\\n",
    "            + input_x.T @sigma_inv@ (self.means[i, :])\n",
    "            probs.append(conditional_prob)\n",
    "        return probs\n",
    "    \n",
    "    def QDA_score(self, input_x):\n",
    "        probs = []\n",
    "        for i, c in enumerate(self.classes):\n",
    "            sigma_inv = np.linalg.inv(self.sigma[i+1])\n",
    "            conditional_prob = (np.log(self.priors[i]) - 0.5 * np.log(np.linalg.det(sigma_inv)) - 0.5 * (input_x - self.means[i, :]).T @sigma_inv@ (input_x - self.means[i, :])).flatten()[0]\n",
    "            probs.append(conditional_prob)\n",
    "        return probs\n",
    "    \n",
    "    def predict(self, x):\n",
    "        predictions = []\n",
    "        costs = []\n",
    "        for input_value in x:\n",
    "            if self.method == 'LDA':\n",
    "                probs = self.LDA_score(input_value)\n",
    "            else:\n",
    "                probs = self.QDA_score(input_value)\n",
    "            predict = np.argmax(probs)\n",
    "            cost = sum(probs) - probs[predict]\n",
    "            predictions.append(predict)\n",
    "            costs.append(cost)\n",
    "        return np.array(cost), np.array(predictions)\n",
    "    \n",
    "    def LDA_boundary(self):\n",
    "        boundaries = []\n",
    "        #For each pair of classes, a boundary is defined\n",
    "        sigma_inv = np.linalg.inv(self.sigma[0])\n",
    "        boundaries = [(np.log(self.priors[i] / self.priors[j]) - 0.5 * (self.means[i, :] + self.means[j, :]).T @sigma_inv@(self.means[i, :] - self.means[j, :]),\n",
    "                      (sigma_inv@(self.means[i, :] - self.means[j, :]))) for i, j in itertools.combinations(range(len(self.classes)), 2)]\n",
    "        return boundaries\n",
    "    \n",
    "#     def QDA_boundary(self):\n",
    "#         boundaries = []\n",
    "    def linear_transformation(self, n_components):\n",
    "        S_W = np.zeros((self.n_features, self.n_features))\n",
    "        S_B = np.zeros((self.n_features, self.n_features))\n",
    "        for i, m in enumerate(self.X_noramlized):\n",
    "            S_W += m.T@m\n",
    "            mean_diff = self.means[i, :] - self.overall_mean\n",
    "            S_B += (m.shape[0] * (mean_diff.T@mean_diff))\n",
    "        A = np.linalg.inv(S_W)@S_B\n",
    "        eig_values, eig_vectors = np.linalg.eig(A)\n",
    "        eig_vectors = eig_vectors.T\n",
    "        indices = np.argsort(abs(eig_values))[::-1]\n",
    "        eig_values = eig_values[indices]\n",
    "        eig_vectors = eig_vectors[indices]\n",
    "        return(eig_vectors[0:n_components])"
   ]
  },
  {
   "cell_type": "code",
   "execution_count": 223,
   "metadata": {},
   "outputs": [
    {
     "name": "stdout",
     "output_type": "stream",
     "text": [
      "LDA Accuracy = 0.9 \n",
      "QDA Accuracy = 0.9\n",
      "LDA average Loss = 3.6660\n",
      "QDA average Los = 3.6660\n"
     ]
    }
   ],
   "source": [
    "lda = Multivariate_Guassian(train[:, :-1], train[:, -1])\n",
    "qda = Multivariate_Guassian(train[:, :-1], train[:, -1], method = 'QDA')\n",
    "\n",
    "lda_costs, lda_predictions = np.array(lda.predict(test[:, :-1]))\n",
    "qda_costs, qda_predictions = np.array(lda.predict(test[:, :-1]))\n",
    "\n",
    "print(\"LDA Accuracy = {0} \\nQDA Accuracy = {1}\".format(np.sum((lda_predictions == test[:, -1])) /test.shape[0],\n",
    "                                                      np.sum(np.array(qda_predictions) == test[:, -1]) /test.shape[0]))\n",
    "\n",
    "print(\"LDA average Loss = {0:.4f}\\nQDA average Los = {1:.4f}\".format(np.sum(lda_costs)/test.shape[0], np.sum(qda_costs)\n",
    "                                                           /test.shape[0]))"
   ]
  },
  {
   "cell_type": "code",
   "execution_count": 171,
   "metadata": {},
   "outputs": [
    {
     "ename": "AttributeError",
     "evalue": "'numpy.ndarray' object has no attribute '_reshape'",
     "output_type": "error",
     "traceback": [
      "\u001b[0;31m---------------------------------------------------------------------------\u001b[0m",
      "\u001b[0;31mAttributeError\u001b[0m                            Traceback (most recent call last)",
      "\u001b[0;32m<ipython-input-171-38473d28e6c5>\u001b[0m in \u001b[0;36m<module>\u001b[0;34m\u001b[0m\n\u001b[1;32m      1\u001b[0m \u001b[0mlda_predictions\u001b[0m \u001b[0;34m=\u001b[0m \u001b[0mnp\u001b[0m\u001b[0;34m.\u001b[0m\u001b[0marray\u001b[0m\u001b[0;34m(\u001b[0m\u001b[0mlda_predictions\u001b[0m\u001b[0;34m)\u001b[0m\u001b[0;34m\u001b[0m\u001b[0;34m\u001b[0m\u001b[0m\n\u001b[1;32m      2\u001b[0m \u001b[0mtest\u001b[0m\u001b[0;34m[\u001b[0m\u001b[0;34m:\u001b[0m\u001b[0;34m,\u001b[0m \u001b[0;34m-\u001b[0m\u001b[0;36m1\u001b[0m\u001b[0;34m]\u001b[0m \u001b[0;34m==\u001b[0m \u001b[0mlda_predictions\u001b[0m\u001b[0;34m.\u001b[0m\u001b[0mreshape\u001b[0m\u001b[0;34m(\u001b[0m\u001b[0;34m-\u001b[0m\u001b[0;36m1\u001b[0m\u001b[0;34m,\u001b[0m \u001b[0;36m1\u001b[0m\u001b[0;34m)\u001b[0m\u001b[0;34m\u001b[0m\u001b[0;34m\u001b[0m\u001b[0m\n\u001b[0;32m----> 3\u001b[0;31m \u001b[0mlda_predictions\u001b[0m\u001b[0;34m.\u001b[0m\u001b[0m_reshape\u001b[0m\u001b[0;34m(\u001b[0m\u001b[0;34m-\u001b[0m\u001b[0;36m1\u001b[0m\u001b[0;34m,\u001b[0m \u001b[0;36m1\u001b[0m\u001b[0;34m)\u001b[0m\u001b[0;34m.\u001b[0m\u001b[0mshape\u001b[0m\u001b[0;34m\u001b[0m\u001b[0;34m\u001b[0m\u001b[0m\n\u001b[0m\u001b[1;32m      4\u001b[0m \u001b[0mlda_predictions\u001b[0m\u001b[0;34m.\u001b[0m\u001b[0mshape\u001b[0m\u001b[0;34m\u001b[0m\u001b[0;34m\u001b[0m\u001b[0m\n",
      "\u001b[0;31mAttributeError\u001b[0m: 'numpy.ndarray' object has no attribute '_reshape'"
     ]
    }
   ],
   "source": [
    "lda_predictions = np.array(lda_predictions)\n",
    "test[:, -1] == lda_predictions.reshape(-1, 1)\n",
    "lda_predictions.reshape(-1, 1).shape\n",
    "lda_predictions.shape"
   ]
  },
  {
   "cell_type": "code",
   "execution_count": 199,
   "metadata": {},
   "outputs": [
    {
     "data": {
      "text/plain": [
       "array([[14, 32],\n",
       "       [32, 77]])"
      ]
     },
     "execution_count": 199,
     "metadata": {},
     "output_type": "execute_result"
    }
   ],
   "source": [
    "x = np.array([[1, 2, 3],\n",
    "             [4, 5, 6]])\n",
    "x.dot(x.T)"
   ]
  },
  {
   "cell_type": "markdown",
   "metadata": {},
   "source": [
    "### Linear Transformations"
   ]
  },
  {
   "cell_type": "code",
   "execution_count": 232,
   "metadata": {},
   "outputs": [
    {
     "data": {
      "image/png": "[encoded data removed]",
      "text/plain": [
       "<Figure size 432x288 with 1 Axes>"
      ]
     },
     "metadata": {
      "needs_background": "light"
     },
     "output_type": "display_data"
    }
   ],
   "source": [
    "visualize(train[:, :-1]@lda.linear_transformation(2).T, train[:, -1])"
   ]
  },
  {
   "cell_type": "code",
   "execution_count": 235,
   "metadata": {},
   "outputs": [],
   "source": [
    "def visualize(x, y):\n",
    "    plt.scatter(x[:, 0], x[:, 1], c = y, cmap = plt.cm.get_cmap('viridis', 3))\n",
    "    plt.colorbar()\n",
    "    plt.show()"
   ]
  },
  {
   "cell_type": "code",
   "execution_count": 236,
   "metadata": {},
   "outputs": [
    {
     "data": {
      "image/png": "[encoded data removed]",
      "text/plain": [
       "<Figure size 432x288 with 2 Axes>"
      ]
     },
     "metadata": {
      "needs_background": "light"
     },
     "output_type": "display_data"
    }
   ],
   "source": [
    "visualize(test[:, :-1]@lda.linear_transformation(2).T, test[:, -1])"
   ]
  }
 ],
 "metadata": {
  "kernelspec": {
   "display_name": "Python 3",
   "language": "python",
   "name": "python3"
  },
  "language_info": {
   "codemirror_mode": {
    "name": "ipython",
    "version": 3
   },
   "file_extension": ".py",
   "mimetype": "text/x-python",
   "name": "python",
   "nbconvert_exporter": "python",
   "pygments_lexer": "ipython3",
   "version": "3.7.3"
  }
 },
 "nbformat": 4,
 "nbformat_minor": 2
}
